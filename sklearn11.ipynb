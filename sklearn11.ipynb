{
 "cells": [
  {
   "cell_type": "markdown",
   "id": "9fc06cc2",
   "metadata": {},
   "source": [
    "GETTING NECESSARY MODULES"
   ]
  },
  {
   "cell_type": "code",
   "execution_count": 1,
   "id": "e978ceca",
   "metadata": {},
   "outputs": [],
   "source": [
    "import pandas as pd\n",
    "import matplotlib.pyplot as plt\n",
    "import seaborn as sns\n"
   ]
  },
  {
   "cell_type": "markdown",
   "id": "9f696367",
   "metadata": {},
   "source": [
    "GETTING DATAFRAME"
   ]
  },
  {
   "cell_type": "code",
   "execution_count": 9,
   "id": "0310ef9d",
   "metadata": {},
   "outputs": [
    {
     "name": "stdout",
     "output_type": "stream",
     "text": [
      "(918, 12)\n",
      "     Age Sex ChestPainType  RestingBP  Cholesterol  FastingBS RestingECG  \\\n",
      "839   35   F           ASY        138          183          0     Normal   \n",
      "14    42   F           NAP        115          211          0         ST   \n",
      "\n",
      "     MaxHR ExerciseAngina  Oldpeak ST_Slope  HeartDisease  \n",
      "839    182              N      1.4       Up             0  \n",
      "14     137              N      0.0       Up             0  \n",
      "<class 'pandas.core.frame.DataFrame'>\n",
      "RangeIndex: 918 entries, 0 to 917\n",
      "Data columns (total 12 columns):\n",
      " #   Column          Non-Null Count  Dtype  \n",
      "---  ------          --------------  -----  \n",
      " 0   Age             918 non-null    int64  \n",
      " 1   Sex             918 non-null    object \n",
      " 2   ChestPainType   918 non-null    object \n",
      " 3   RestingBP       918 non-null    int64  \n",
      " 4   Cholesterol     918 non-null    int64  \n",
      " 5   FastingBS       918 non-null    int64  \n",
      " 6   RestingECG      918 non-null    object \n",
      " 7   MaxHR           918 non-null    int64  \n",
      " 8   ExerciseAngina  918 non-null    object \n",
      " 9   Oldpeak         918 non-null    float64\n",
      " 10  ST_Slope        918 non-null    object \n",
      " 11  HeartDisease    918 non-null    int64  \n",
      "dtypes: float64(1), int64(6), object(5)\n",
      "memory usage: 86.2+ KB\n",
      "None\n",
      "              Age   RestingBP  Cholesterol   FastingBS       MaxHR  \\\n",
      "count  918.000000  918.000000   918.000000  918.000000  918.000000   \n",
      "mean    53.510893  132.396514   198.799564    0.233115  136.809368   \n",
      "std      9.432617   18.514154   109.384145    0.423046   25.460334   \n",
      "min     28.000000    0.000000     0.000000    0.000000   60.000000   \n",
      "25%     47.000000  120.000000   173.250000    0.000000  120.000000   \n",
      "50%     54.000000  130.000000   223.000000    0.000000  138.000000   \n",
      "75%     60.000000  140.000000   267.000000    0.000000  156.000000   \n",
      "max     77.000000  200.000000   603.000000    1.000000  202.000000   \n",
      "\n",
      "          Oldpeak  HeartDisease  \n",
      "count  918.000000    918.000000  \n",
      "mean     0.887364      0.553377  \n",
      "std      1.066570      0.497414  \n",
      "min     -2.600000      0.000000  \n",
      "25%      0.000000      0.000000  \n",
      "50%      0.600000      1.000000  \n",
      "75%      1.500000      1.000000  \n",
      "max      6.200000      1.000000  \n"
     ]
    }
   ],
   "source": [
    "dataframe=pd.read_csv(\"heart.csv\")\n",
    "pd.set_option(\"display.max_columns\",len(dataframe.columns))\n",
    "print(dataframe.shape)\n",
    "print(dataframe.sample(2))\n",
    "print(dataframe.info())\n",
    "print(dataframe.describe())"
   ]
  },
  {
   "cell_type": "code",
   "execution_count": 13,
   "id": "441ce751",
   "metadata": {},
   "outputs": [
    {
     "name": "stdout",
     "output_type": "stream",
     "text": [
      "Age               0\n",
      "Sex               0\n",
      "ChestPainType     0\n",
      "RestingBP         0\n",
      "Cholesterol       0\n",
      "FastingBS         0\n",
      "RestingECG        0\n",
      "MaxHR             0\n",
      "ExerciseAngina    0\n",
      "Oldpeak           0\n",
      "ST_Slope          0\n",
      "HeartDisease      0\n",
      "dtype: int64\n",
      "0\n"
     ]
    }
   ],
   "source": [
    "print(dataframe.isna().sum())\n",
    "print(dataframe.duplicated().sum())"
   ]
  },
  {
   "cell_type": "code",
   "execution_count": 21,
   "id": "700b219b",
   "metadata": {},
   "outputs": [
    {
     "name": "stdout",
     "output_type": "stream",
     "text": [
      "Name of the column : Sex\n",
      "Sex\n",
      "M    725\n",
      "F    193\n",
      "Name: count, dtype: int64\n",
      "Name of the column : ChestPainType\n",
      "ChestPainType\n",
      "ASY    496\n",
      "NAP    203\n",
      "ATA    173\n",
      "TA      46\n",
      "Name: count, dtype: int64\n",
      "Name of the column : RestingECG\n",
      "RestingECG\n",
      "Normal    552\n",
      "LVH       188\n",
      "ST        178\n",
      "Name: count, dtype: int64\n",
      "Name of the column : ExerciseAngina\n",
      "ExerciseAngina\n",
      "N    547\n",
      "Y    371\n",
      "Name: count, dtype: int64\n",
      "Name of the column : ST_Slope\n",
      "ST_Slope\n",
      "Flat    460\n",
      "Up      395\n",
      "Down     63\n",
      "Name: count, dtype: int64\n"
     ]
    }
   ],
   "source": [
    "\n",
    "list_of_objects=list(dataframe.select_dtypes(include=[\"object\"]).columns)\n",
    "for x in iter(list_of_objects):\n",
    "        print(f\"Name of the column : {x}\")\n",
    "        print(dataframe[x].value_counts())\n",
    "\n",
    "dict_of_objects={}\n"
   ]
  },
  {
   "cell_type": "code",
   "execution_count": null,
   "id": "818a3c65",
   "metadata": {},
   "outputs": [
    {
     "name": "stdout",
     "output_type": "stream",
     "text": [
      "['F' 'M']\n",
      "['ASY' 'ATA' 'NAP' 'TA']\n",
      "['LVH' 'Normal' 'ST']\n",
      "['N' 'Y']\n",
      "['Down' 'Flat' 'Up']\n"
     ]
    }
   ],
   "source": [
    "from sklearn.preprocessing import  LabelEncoder\n",
    "for x in list_of_objects:\n",
    "        encoder=LabelEncoder()\n",
    "        dict_of_objects[x]=encoder\n",
    "        dataframe[x]=encoder.fit_transform(dataframe[x])\n",
    "        print(encoder.classes_)\n"
   ]
  },
  {
   "cell_type": "code",
   "execution_count": 33,
   "id": "34fea38f",
   "metadata": {},
   "outputs": [
    {
     "name": "stdout",
     "output_type": "stream",
     "text": [
      "LabelEncoder()\n",
      "['F' 'M']\n",
      "LabelEncoder()\n",
      "['ASY' 'ATA' 'NAP' 'TA']\n",
      "LabelEncoder()\n",
      "['LVH' 'Normal' 'ST']\n",
      "LabelEncoder()\n",
      "['N' 'Y']\n",
      "LabelEncoder()\n",
      "['Down' 'Flat' 'Up']\n"
     ]
    }
   ],
   "source": [
    "for x in dict_of_objects.values():\n",
    "        print(f\"{x}\")\n",
    "        print(x.classes_)\n",
    "        \n"
   ]
  },
  {
   "cell_type": "code",
   "execution_count": 34,
   "id": "4ca18fa2",
   "metadata": {},
   "outputs": [
    {
     "name": "stdout",
     "output_type": "stream",
     "text": [
      "<class 'pandas.core.frame.DataFrame'>\n",
      "RangeIndex: 918 entries, 0 to 917\n",
      "Data columns (total 12 columns):\n",
      " #   Column          Non-Null Count  Dtype  \n",
      "---  ------          --------------  -----  \n",
      " 0   Age             918 non-null    int64  \n",
      " 1   Sex             918 non-null    int32  \n",
      " 2   ChestPainType   918 non-null    int32  \n",
      " 3   RestingBP       918 non-null    int64  \n",
      " 4   Cholesterol     918 non-null    int64  \n",
      " 5   FastingBS       918 non-null    int64  \n",
      " 6   RestingECG      918 non-null    int32  \n",
      " 7   MaxHR           918 non-null    int64  \n",
      " 8   ExerciseAngina  918 non-null    int32  \n",
      " 9   Oldpeak         918 non-null    float64\n",
      " 10  ST_Slope        918 non-null    int32  \n",
      " 11  HeartDisease    918 non-null    int64  \n",
      "dtypes: float64(1), int32(5), int64(6)\n",
      "memory usage: 68.3 KB\n",
      "None\n"
     ]
    }
   ],
   "source": [
    "print(dataframe.info())"
   ]
  },
  {
   "cell_type": "code",
   "execution_count": 37,
   "id": "af3dee5f",
   "metadata": {},
   "outputs": [],
   "source": [
    "list_of_64dtypes=list(dataframe.select_dtypes(include=[\"int64\",\"float64\"]).columns)\n"
   ]
  },
  {
   "cell_type": "code",
   "execution_count": 40,
   "id": "c27601ed",
   "metadata": {},
   "outputs": [],
   "source": [
    "for x in list_of_64dtypes:\n",
    "        if dataframe[x].dtype==\"float\":\n",
    "                dataframe[x]=dataframe[x].astype(\"float16\")\n",
    "        else:\n",
    "                dataframe[x]=dataframe[x].astype(\"int16\")\n",
    "        "
   ]
  },
  {
   "cell_type": "code",
   "execution_count": 41,
   "id": "4225cae6",
   "metadata": {},
   "outputs": [
    {
     "name": "stdout",
     "output_type": "stream",
     "text": [
      "<class 'pandas.core.frame.DataFrame'>\n",
      "RangeIndex: 918 entries, 0 to 917\n",
      "Data columns (total 12 columns):\n",
      " #   Column          Non-Null Count  Dtype  \n",
      "---  ------          --------------  -----  \n",
      " 0   Age             918 non-null    int16  \n",
      " 1   Sex             918 non-null    int32  \n",
      " 2   ChestPainType   918 non-null    int32  \n",
      " 3   RestingBP       918 non-null    int16  \n",
      " 4   Cholesterol     918 non-null    int16  \n",
      " 5   FastingBS       918 non-null    int16  \n",
      " 6   RestingECG      918 non-null    int32  \n",
      " 7   MaxHR           918 non-null    int16  \n",
      " 8   ExerciseAngina  918 non-null    int32  \n",
      " 9   Oldpeak         918 non-null    float16\n",
      " 10  ST_Slope        918 non-null    int32  \n",
      " 11  HeartDisease    918 non-null    int16  \n",
      "dtypes: float16(1), int16(6), int32(5)\n",
      "memory usage: 30.6 KB\n",
      "None\n"
     ]
    }
   ],
   "source": [
    "print(dataframe.info())"
   ]
  },
  {
   "cell_type": "code",
   "execution_count": 43,
   "id": "9df79f02",
   "metadata": {},
   "outputs": [
    {
     "name": "stdout",
     "output_type": "stream",
     "text": [
      "(918, 11) (918,)\n"
     ]
    }
   ],
   "source": [
    "from sklearn.model_selection import GridSearchCV\n",
    "from sklearn.model_selection import train_test_split\n",
    "from sklearn.svm import SVC\n",
    "from sklearn.ensemble import (HistGradientBoostingClassifier,\n",
    "                              RandomForestClassifier)\n",
    "X=dataframe.drop(columns=[\"HeartDisease\"],axis=1)\n",
    "y=dataframe[\"HeartDisease\"]\n",
    "print(X.shape,y.shape)"
   ]
  },
  {
   "cell_type": "code",
   "execution_count": 44,
   "id": "74bb2b91",
   "metadata": {},
   "outputs": [
    {
     "name": "stdout",
     "output_type": "stream",
     "text": [
      "(734, 11)\n",
      "(184, 11)\n",
      "(734,)\n",
      "(184,)\n"
     ]
    }
   ],
   "source": [
    "x_train,x_test,y_train,y_test=train_test_split(X,y,train_size=0.8,random_state=42)\n",
    "list1=[x_train,x_test,y_train,y_test]\n",
    "for x in list1:\n",
    "        print(x.shape)"
   ]
  },
  {
   "cell_type": "code",
   "execution_count": 45,
   "id": "faeb43ef",
   "metadata": {},
   "outputs": [
    {
     "name": "stdout",
     "output_type": "stream",
     "text": [
      "(734, 78)\n",
      "(184, 78)\n"
     ]
    }
   ],
   "source": [
    "from sklearn.preprocessing import (\n",
    "        MinMaxScaler,\n",
    "        PolynomialFeatures\n",
    ")\n",
    "scaler=MinMaxScaler()\n",
    "poly=PolynomialFeatures()\n",
    "x_train=scaler.fit_transform(x_train)\n",
    "x_test=scaler.transform(x_test)\n",
    "x_train=poly.fit_transform(x_train)\n",
    "x_test=poly.transform(x_test)\n",
    "print(x_train.shape)\n",
    "print(x_test.shape)"
   ]
  },
  {
   "cell_type": "code",
   "execution_count": 46,
   "id": "76a18ce3",
   "metadata": {},
   "outputs": [],
   "source": [
    "models = {\n",
    "    \"RFC\": {\n",
    "        \"model\": RandomForestClassifier(),\n",
    "        \"params\": {\n",
    "            \"n_estimators\": [50, 100, 200],\n",
    "            \"max_depth\": [None, 10, 20],\n",
    "            \"criterion\": [\"gini\", \"entropy\"]\n",
    "        }\n",
    "    },\n",
    "    \"SVC\": {\n",
    "        \"model\": SVC(),\n",
    "        \"params\": {\n",
    "            \"C\": [0.1, 1, 10],\n",
    "            \"kernel\": [\"linear\", \"rbf\", \"poly\"]\n",
    "        }\n",
    "    },\n",
    "    \"HGBC\": {\n",
    "        \"model\": HistGradientBoostingClassifier(),\n",
    "        \"params\": {\n",
    "            \"learning_rate\": [0.01, 0.1, 0.5],\n",
    "            \"max_depth\": [3, 5, 10],\n",
    "            \"min_samples_leaf\": [10, 20, 30]\n",
    "        }\n",
    "    }\n",
    "}"
   ]
  },
  {
   "cell_type": "code",
   "execution_count": null,
   "id": "f57ab18c",
   "metadata": {},
   "outputs": [
    {
     "name": "stdout",
     "output_type": "stream",
     "text": [
      "Best parameters for RFC: {'criterion': 'entropy', 'max_depth': 20, 'n_estimators': 100}\n",
      "Best parameters for SVC: {'C': 0.1, 'kernel': 'poly'}\n",
      "Best parameters for HGBC: {'learning_rate': 0.1, 'max_depth': 3, 'min_samples_leaf': 30}\n"
     ]
    }
   ],
   "source": [
    "best_models = {}\n",
    "\n",
    "for name, info in models.items():\n",
    "    grid_search = GridSearchCV(info[\"model\"], info[\"params\"], cv=5, n_jobs=-1, scoring=\"accuracy\")\n",
    "    grid_search.fit(x_train, y_train) \n",
    "\n",
    "    best_models[name] = grid_search.best_estimator_\n",
    "    print(f\"Best parameters for {name}: {grid_search.best_params_}\")"
   ]
  },
  {
   "cell_type": "code",
   "execution_count": null,
   "id": "63aafc7c",
   "metadata": {},
   "outputs": [
    {
     "name": "stdout",
     "output_type": "stream",
     "text": [
      "RFC model accuracy: 87.5000\n",
      "SVC model accuracy: 86.4130\n",
      "HGBC model accuracy: 87.5000\n"
     ]
    }
   ],
   "source": [
    "for name, model in best_models.items():\n",
    "    accuracy = model.score(x_test, y_test)  \n",
    "    print(f\"{name} model accuracy: {accuracy*100:.4f}\")"
   ]
  },
  {
   "cell_type": "code",
   "execution_count": null,
   "id": "129e4db2",
   "metadata": {},
   "outputs": [],
   "source": []
  }
 ],
 "metadata": {
  "kernelspec": {
   "display_name": "Python 3",
   "language": "python",
   "name": "python3"
  },
  "language_info": {
   "codemirror_mode": {
    "name": "ipython",
    "version": 3
   },
   "file_extension": ".py",
   "mimetype": "text/x-python",
   "name": "python",
   "nbconvert_exporter": "python",
   "pygments_lexer": "ipython3",
   "version": "3.12.5"
  }
 },
 "nbformat": 4,
 "nbformat_minor": 5
}
