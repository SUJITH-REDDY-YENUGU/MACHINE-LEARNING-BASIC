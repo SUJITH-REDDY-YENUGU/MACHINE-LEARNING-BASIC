{
 "cells": [
  {
   "cell_type": "code",
   "execution_count": null,
   "id": "0a3f3766",
   "metadata": {},
   "outputs": [
    {
     "name": "stdout",
     "output_type": "stream",
     "text": [
      "2.2.3\n",
      "1.26.4\n",
      "0.13.2\n"
     ]
    }
   ],
   "source": [
    "import numpy as np\n",
    "import pandas as pd\n",
    "import matplotlib.pyplot as plt\n",
    "import seaborn as sns\n",
    "from sklearn.model_selection import train_test_split,GridSearchCV\n",
    "from sklearn.preprocessing import MinMaxScaler         # for scaling between 0 to 1\n",
    "from sklearn.neighbors import KNeighborsClassifier\n",
    "from sklearn.metrics import (accuracy_score,\n",
    "                             classification_report,\n",
    "                             confusion_matrix)\n",
    "\n",
    "print(pd.__version__)\n",
    "print(np.__version__)\n",
    "print(sns.__version__)"
   ]
  },
  {
   "cell_type": "code",
   "execution_count": 68,
   "id": "8d050190-64eb-47b7-abc0-7ec54ada6ef0",
   "metadata": {},
   "outputs": [
    {
     "name": "stdout",
     "output_type": "stream",
     "text": [
      "   PassengerId  Survived  Pclass  \\\n",
      "0          892         0       3   \n",
      "1          893         1       3   \n",
      "2          894         0       2   \n",
      "3          895         0       3   \n",
      "4          896         1       3   \n",
      "\n",
      "                                           Name     Sex   Age  SibSp  Parch  \\\n",
      "0                              Kelly, Mr. James    male  34.5      0      0   \n",
      "1              Wilkes, Mrs. James (Ellen Needs)  female  47.0      1      0   \n",
      "2                     Myles, Mr. Thomas Francis    male  62.0      0      0   \n",
      "3                              Wirz, Mr. Albert    male  27.0      0      0   \n",
      "4  Hirvonen, Mrs. Alexander (Helga E Lindqvist)  female  22.0      1      1   \n",
      "\n",
      "    Ticket     Fare Cabin Embarked  \n",
      "0   330911   7.8292   NaN        Q  \n",
      "1   363272   7.0000   NaN        S  \n",
      "2   240276   9.6875   NaN        Q  \n",
      "3   315154   8.6625   NaN        S  \n",
      "4  3101298  12.2875   NaN        S  \n",
      "     PassengerId  Survived  Pclass                          Name     Sex  \\\n",
      "413         1305         0       3            Spector, Mr. Woolf    male   \n",
      "414         1306         1       1  Oliva y Ocana, Dona. Fermina  female   \n",
      "415         1307         0       3  Saether, Mr. Simon Sivertsen    male   \n",
      "416         1308         0       3           Ware, Mr. Frederick    male   \n",
      "417         1309         0       3      Peter, Master. Michael J    male   \n",
      "\n",
      "      Age  SibSp  Parch              Ticket      Fare Cabin Embarked  \n",
      "413   NaN      0      0           A.5. 3236    8.0500   NaN        S  \n",
      "414  39.0      0      0            PC 17758  108.9000  C105        C  \n",
      "415  38.5      0      0  SOTON/O.Q. 3101262    7.2500   NaN        S  \n",
      "416   NaN      0      0              359309    8.0500   NaN        S  \n",
      "417   NaN      1      1                2668   22.3583   NaN        C  \n",
      "Information about the dataset .........\n",
      "<class 'pandas.core.frame.DataFrame'>\n",
      "RangeIndex: 418 entries, 0 to 417\n",
      "Data columns (total 12 columns):\n",
      " #   Column       Non-Null Count  Dtype  \n",
      "---  ------       --------------  -----  \n",
      " 0   PassengerId  418 non-null    int64  \n",
      " 1   Survived     418 non-null    int64  \n",
      " 2   Pclass       418 non-null    int64  \n",
      " 3   Name         418 non-null    object \n",
      " 4   Sex          418 non-null    object \n",
      " 5   Age          332 non-null    float64\n",
      " 6   SibSp        418 non-null    int64  \n",
      " 7   Parch        418 non-null    int64  \n",
      " 8   Ticket       418 non-null    object \n",
      " 9   Fare         417 non-null    float64\n",
      " 10  Cabin        91 non-null     object \n",
      " 11  Embarked     418 non-null    object \n",
      "dtypes: float64(2), int64(5), object(5)\n",
      "memory usage: 39.3+ KB\n",
      "None\n",
      "       PassengerId    Survived      Pclass         Age       SibSp  \\\n",
      "count   418.000000  418.000000  418.000000  332.000000  418.000000   \n",
      "mean   1100.500000    0.363636    2.265550   30.272590    0.447368   \n",
      "std     120.810458    0.481622    0.841838   14.181209    0.896760   \n",
      "min     892.000000    0.000000    1.000000    0.170000    0.000000   \n",
      "25%     996.250000    0.000000    1.000000   21.000000    0.000000   \n",
      "50%    1100.500000    0.000000    3.000000   27.000000    0.000000   \n",
      "75%    1204.750000    1.000000    3.000000   39.000000    1.000000   \n",
      "max    1309.000000    1.000000    3.000000   76.000000    8.000000   \n",
      "\n",
      "            Parch        Fare  \n",
      "count  418.000000  417.000000  \n",
      "mean     0.392344   35.627188  \n",
      "std      0.981429   55.907576  \n",
      "min      0.000000    0.000000  \n",
      "25%      0.000000    7.895800  \n",
      "50%      0.000000   14.454200  \n",
      "75%      0.000000   31.500000  \n",
      "max      9.000000  512.329200  \n",
      "checking for the missing values .........\n",
      "PassengerId      0\n",
      "Survived         0\n",
      "Pclass           0\n",
      "Name             0\n",
      "Sex              0\n",
      "Age             86\n",
      "SibSp            0\n",
      "Parch            0\n",
      "Ticket           0\n",
      "Fare             1\n",
      "Cabin          327\n",
      "Embarked         0\n",
      "dtype: int64\n"
     ]
    }
   ],
   "source": [
    "#Loading data and getting statistics \n",
    "Data_frame=pd.read_csv(\"tested.csv\")\n",
    "print(Data_frame.head())\n",
    "print(Data_frame.tail())\n",
    "print(\"Information about the dataset .........\")\n",
    "print(Data_frame.info())\n",
    "print(Data_frame.describe())\n",
    "print(\"checking for the missing values .........\")\n",
    "print(Data_frame.isnull().sum())"
   ]
  },
  {
   "cell_type": "code",
   "execution_count": 69,
   "id": "3b7082b9-2fa2-4073-bfd4-4b311c29ac7d",
   "metadata": {},
   "outputs": [],
   "source": [
    "# Data cleaning and feature_engineering the data\n",
    "def preprocessing_data(df:pd.DataFrame):\n",
    "    df.drop(columns=[\"PassengerId\",\"Name\",\"Ticket\",\"Cabin\"],inplace=True)\n",
    "    df.drop(columns=[\"Embarked\"],inplace=True)\n",
    "    \n",
    "    fill_missing_ages_fares(df)\n",
    "    # similar to one - hot encoding sparse\n",
    "    gender={\n",
    "        \"male\":1,\n",
    "        \"female\":0\n",
    "    }\n",
    "    df[\"Sex\"]=df[\"Sex\"].map(gender)\n",
    "    df[\"FamilySize\"]=df[\"SibSp\"]+df[\"Parch\"]\n",
    "    df[\"IsAlone\"]=np.where(df[\"FamilySize\"]==0 , 1 ,0)\n",
    "    df[\"FareBin\"]=pd.qcut(df[\"Fare\"],4,labels=False)\n",
    "    df[\"AgeBin\"]=pd.cut(df[\"Age\"],bins=[0,15,30,45,80],labels=False)\n",
    "    return df\n",
    "\n",
    "def fill_missing_ages_fares(df:pd.DataFrame):\n",
    "    age_fill_map={}\n",
    "    for pclass in df[\"Pclass\"].unique():\n",
    "        if pclass not in age_fill_map:\n",
    "            age_fill_map[pclass]=df[df[\"Pclass\"] == pclass][\"Age\"].mean()\n",
    "    df[\"Age\"]=df.apply(lambda row:age_fill_map[row[\"Pclass\"]] if pd.isnull(row[\"Age\"]) else row[\"Age\"],axis=1)\n",
    "    fare_fill={}\n",
    "    for pclass in df[\"Pclass\"].unique():\n",
    "        if pclass not in fare_fill:\n",
    "            fare_fill[pclass]=df[df[\"Pclass\"] == pclass][\"Fare\"].mean()\n",
    "    df[\"Age\"]=df.apply(lambda row:age_fill_map[row[\"Pclass\"]] if pd.isnull(row[\"Age\"]) else row[\"Age\"],axis=1)\n",
    "    df[\"Fare\"]=df.apply(lambda row:fare_fill[row[\"Pclass\"]] if pd.isnull(row[\"Fare\"]) else row[\"Fare\"],axis=1)"
   ]
  },
  {
   "cell_type": "code",
   "execution_count": 70,
   "id": "7ed2f3cb-8175-480a-ab96-ba7ded528c04",
   "metadata": {},
   "outputs": [
    {
     "name": "stdout",
     "output_type": "stream",
     "text": [
      "Survived      0\n",
      "Pclass        0\n",
      "Sex           0\n",
      "Age           0\n",
      "SibSp         0\n",
      "Parch         0\n",
      "Fare          0\n",
      "FamilySize    0\n",
      "IsAlone       0\n",
      "FareBin       0\n",
      "AgeBin        0\n",
      "dtype: int64\n",
      "Index(['Survived', 'Pclass', 'Sex', 'Age', 'SibSp', 'Parch', 'Fare',\n",
      "       'FamilySize', 'IsAlone', 'FareBin', 'AgeBin'],\n",
      "      dtype='object')\n"
     ]
    }
   ],
   "source": [
    "dataframe_new=preprocessing_data(Data_frame)\n",
    "# train and test split and data ready\n",
    "X=dataframe_new.drop(columns=[\"Survived\"])\n",
    "y=dataframe_new[\"Survived\"]\n",
    "\n",
    "x_train,x_test,y_train,y_test=train_test_split(X,y,train_size=0.8,random_state=42)\n",
    "scaler=MinMaxScaler()\n",
    "x_train=scaler.fit_transform(x_train)\n",
    "x_test=scaler.transform(x_test)\n",
    "print(dataframe_new.isnull().sum())\n",
    "print(dataframe_new.columns)"
   ]
  },
  {
   "cell_type": "code",
   "execution_count": 71,
   "id": "7374ffc8-2ab2-4f04-876e-664b0940ba34",
   "metadata": {},
   "outputs": [],
   "source": [
    "#Hyper parameter tuning\n",
    "def tune_model(X_train,y_train):\n",
    "    param_grid={\n",
    "        \"n_neighbors\":range(1,30),\n",
    "        \"metric\":[\"euclidean\",\"manhattan\",\"minkowski\"],\n",
    "        \"weights\":[\"uniform\",\"distance\"]\n",
    "    }\n",
    "    model=KNeighborsClassifier()\n",
    "    grid_search=GridSearchCV(model,param_grid,cv=5,n_jobs=-1)\n",
    "    grid_search.fit(X_train,y_train)\n",
    "    return grid_search.best_estimator_\n",
    "\n",
    "best_model=tune_model(x_train,y_train)\n"
   ]
  },
  {
   "cell_type": "code",
   "execution_count": 72,
   "id": "95e5370c-e193-4ba0-93c6-e57094488d9c",
   "metadata": {},
   "outputs": [
    {
     "name": "stdout",
     "output_type": "stream",
     "text": [
      "Accuracy Score:100.00%\n",
      "[[50  0]\n",
      " [ 0 34]]\n",
      "              precision    recall  f1-score   support\n",
      "\n",
      "           0       1.00      1.00      1.00        50\n",
      "           1       1.00      1.00      1.00        34\n",
      "\n",
      "    accuracy                           1.00        84\n",
      "   macro avg       1.00      1.00      1.00        84\n",
      "weighted avg       1.00      1.00      1.00        84\n",
      "\n"
     ]
    }
   ],
   "source": [
    "#predictions\n",
    "def evaluate_model(model,x_test,y_test):\n",
    "    prediction=model.predict(x_test)\n",
    "    accuracy=accuracy_score(y_test,prediction)\n",
    "    matrix=confusion_matrix(y_test,prediction)\n",
    "    class_report=classification_report(y_test,prediction)\n",
    "    return accuracy,matrix,class_report\n",
    "accuracy,matrix,report=evaluate_model(best_model,x_test,y_test)\n",
    "print(f\"Accuracy Score:{accuracy*100:.2f}%\")\n",
    "print(matrix)\n",
    "print(report)"
   ]
  },
  {
   "cell_type": "code",
   "execution_count": 73,
   "id": "ba3c28b4-8923-443d-b0b1-cc4f99b4cfb1",
   "metadata": {},
   "outputs": [
    {
     "data": {
      "image/png": "[encoded data removed]",
      "text/plain": [
       "<Figure size 1000x700 with 2 Axes>"
      ]
     },
     "metadata": {},
     "output_type": "display_data"
    }
   ],
   "source": [
    "def plot_model(matrix):\n",
    "    plt.figure(figsize=(10,7))\n",
    "    sns.heatmap(matrix,annot=True,xticklabels=[\"Survived\",\"Not survived\"],yticklabels=[\"Not survived\",\"survived\"])\n",
    "    plt.title(\"Confusion matrix\")\n",
    "    plt.show()\n",
    "\n",
    "\n",
    "\n",
    "plot_model(matrix)\n",
    "        "
   ]
  },
  {
   "cell_type": "code",
   "execution_count": null,
   "id": "535b445e-e23b-401c-9677-d35b10cddc74",
   "metadata": {},
   "outputs": [],
   "source": []
  },
  {
   "cell_type": "code",
   "execution_count": null,
   "id": "8f1bde9f-0a81-42c3-a022-f5cfa0d183a0",
   "metadata": {},
   "outputs": [],
   "source": []
  },
  {
   "cell_type": "code",
   "execution_count": null,
   "id": "39d1adbf-8076-4137-a682-18b484b429d0",
   "metadata": {},
   "outputs": [],
   "source": []
  },
  {
   "cell_type": "code",
   "execution_count": null,
   "id": "a71e57eb-99cc-4f69-bb60-10521a182010",
   "metadata": {},
   "outputs": [],
   "source": []
  },
  {
   "cell_type": "code",
   "execution_count": null,
   "id": "c9a8287e-7b22-4bc1-9990-c2805bf38605",
   "metadata": {},
   "outputs": [],
   "source": []
  }
 ],
 "metadata": {
  "kernelspec": {
   "display_name": "Python 3",
   "language": "python",
   "name": "python3"
  },
  "language_info": {
   "name": "python",
   "version": "3.12.5"
  }
 },
 "nbformat": 4,
 "nbformat_minor": 5
}
